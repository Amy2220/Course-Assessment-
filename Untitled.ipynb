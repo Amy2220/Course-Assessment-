{
 "cells": [
  {
   "cell_type": "markdown",
   "id": "967f4176-9901-4457-b71d-85b43a187023",
   "metadata": {},
   "source": [
    "# My Jupyter notebook on IBM Watson studio"
   ]
  },
  {
   "cell_type": "markdown",
   "id": "4b7e2fbb-9008-480a-8921-078e8a3c2a27",
   "metadata": {
    "tags": []
   },
   "source": [
    "### Evelyn\n",
    "\n",
    "Business Analytic"
   ]
  },
  {
   "cell_type": "markdown",
   "id": "d89c79ec-3346-4aa3-843a-c27e67b8e642",
   "metadata": {
    "tags": []
   },
   "source": [
    "I am interested in Data analytic because I want to make data driven decision and insightful, using story telling."
   ]
  },
  {
   "cell_type": "markdown",
   "id": "9b9dcc21-76ff-4cf8-886c-ae60c485de88",
   "metadata": {
    "tags": []
   },
   "source": [
    "### My code below involves a calculation"
   ]
  },
  {
   "cell_type": "code",
   "execution_count": 2,
   "id": "118f0dcd-1ea3-446a-ad63-1dcdee82cc21",
   "metadata": {
    "tags": []
   },
   "outputs": [
    {
     "data": {
      "text/plain": [
       "245"
      ]
     },
     "execution_count": 2,
     "metadata": {},
     "output_type": "execute_result"
    }
   ],
   "source": [
    "35 * 7"
   ]
  },
  {
   "cell_type": "markdown",
   "id": "f3a80fee-4799-48c4-9234-88e34331125d",
   "metadata": {
    "tags": []
   },
   "source": [
    "* One\n",
    "* Two\n",
    "* Three"
   ]
  },
  {
   "cell_type": "markdown",
   "id": "cc265922-8ee1-401e-86e1-4017f3117c31",
   "metadata": {
    "tags": []
   },
   "source": [
    "| State  | Name | colour|\n",
    "| ------ | ------ | ------ |\n",
    "| Ny | Amy | Blue |\n",
    "| NJ | Wood | Brown |"
   ]
  },
  {
   "cell_type": "code",
   "execution_count": null,
   "id": "149d515e-1feb-4b93-9945-a9246db4c167",
   "metadata": {},
   "outputs": [],
   "source": []
  }
 ],
 "metadata": {
  "kernelspec": {
   "display_name": "Python",
   "language": "python",
   "name": "conda-env-python-py"
  },
  "language_info": {
   "codemirror_mode": {
    "name": "ipython",
    "version": 3
   },
   "file_extension": ".py",
   "mimetype": "text/x-python",
   "name": "python",
   "nbconvert_exporter": "python",
   "pygments_lexer": "ipython3",
   "version": "3.7.12"
  }
 },
 "nbformat": 4,
 "nbformat_minor": 5
}
